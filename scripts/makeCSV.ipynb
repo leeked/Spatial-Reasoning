{
 "cells": [
  {
   "cell_type": "code",
   "execution_count": 1,
   "id": "6762ff9d",
   "metadata": {},
   "outputs": [],
   "source": [
    "import pandas as pd\n",
    "import numpy as np\n",
    "import json\n",
    "import glob\n",
    "import os"
   ]
  },
  {
   "cell_type": "code",
   "execution_count": 2,
   "id": "83c4095a",
   "metadata": {},
   "outputs": [],
   "source": [
    "gt_file = 'C:\\\\ML\\\\Research\\\\Spatial-Reasoning\\\\groundTruth\\\\testing_groundTruth.json'\n",
    "in_dir = 'C:\\\\ML\\\\Research\\\\Spatial-Reasoning\\\\Datasets\\\\data\\\\testing'\n",
    "res = []\n",
    "\n",
    "# Grab images\n",
    "imgs = {}\n",
    "\n",
    "for image in glob.iglob(os.path.join(in_dir, '*.jpg')):\n",
    "    image_name = image[image.rfind('\\\\') + 1: -4]\n",
    "    imgs[image_name] = image[image.rfind('\\\\') + 1:]\n",
    "\n",
    "with open(gt_file,'r') as f:\n",
    "    gt = json.load(f)\n",
    "    \n",
    "    for key, val in gt.items():\n",
    "        first = imgs[key]\n",
    "        res.append([first, first, 1])\n",
    "        \n",
    "        for neighbor in val['easy']:\n",
    "            second = imgs['{}'.format(neighbor)]\n",
    "            label = 1\n",
    "            res.append([first, second, label])\n",
    "        \n",
    "        for neighbor in val['long']:\n",
    "            second = imgs['{}'.format(neighbor)]\n",
    "            label = 1\n",
    "            res.append([first, second, label])\n",
    "            \n",
    "        for neighbor in val['maybe']:\n",
    "            second = imgs['{}'.format(neighbor)]\n",
    "            label = 1\n",
    "            res.append([first, second, label])\n",
    "            \n",
    "        for neighbor in val['na']:\n",
    "            second = imgs['{}'.format(neighbor)]\n",
    "            label = 0\n",
    "            res.append([first, second, label])\n",
    "            \n",
    "        for neighbor in val['maybeNa']:\n",
    "            second = imgs['{}'.format(neighbor)]\n",
    "            label = 0\n",
    "            res.append([first, second, label])\n",
    "            \n",
    "res_np = np.array(res)\n",
    "out_csv = pd.DataFrame(res_np)\n",
    "\n",
    "out_csv.to_csv('testing_csv.csv',index=False,header=False)"
   ]
  }
 ],
 "metadata": {
  "kernelspec": {
   "display_name": "ds",
   "language": "python",
   "name": "ds"
  },
  "language_info": {
   "codemirror_mode": {
    "name": "ipython",
    "version": 3
   },
   "file_extension": ".py",
   "mimetype": "text/x-python",
   "name": "python",
   "nbconvert_exporter": "python",
   "pygments_lexer": "ipython3",
   "version": "3.10.4"
  }
 },
 "nbformat": 4,
 "nbformat_minor": 5
}
